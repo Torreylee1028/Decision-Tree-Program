{
 "cells": [
  {
   "cell_type": "markdown",
   "metadata": {},
   "source": [
    "# Decision Tree Program"
   ]
  },
  {
   "cell_type": "code",
   "execution_count": 1,
   "metadata": {},
   "outputs": [],
   "source": [
    "import pandas as pd\n",
    "import numpy as np\n",
    "import sklearn\n",
    "from sklearn.tree import DecisionTreeClassifier\n",
    "import sys"
   ]
  },
  {
   "cell_type": "raw",
   "metadata": {},
   "source": [
    "# Versions needed to run program\n",
    "\n",
    "print('{} version: {}'.format('Pandas',pd.__version__))\n",
    "print('{} version: {}'.format('Numpy',np.__version__))\n",
    "print('{} version: {}'.format('Sklearn',sklearn.__version__))\n",
    "\n",
    "# out>>\n",
    "Pandas version: 0.25.1\n",
    "Numpy version: 1.16.5\n",
    "Sklearn version: 0.21.3"
   ]
  },
  {
   "cell_type": "markdown",
   "metadata": {},
   "source": [
    "#### Read File"
   ]
  },
  {
   "cell_type": "code",
   "execution_count": 2,
   "metadata": {},
   "outputs": [],
   "source": [
    "def read_file(file, headers, delimiter=','):\n",
    "    \"\"\"Function to read a CSV file and will result in error if one is not\n",
    "       submitted.\n",
    "       File needs to have the last column as the class.\n",
    "       Function will take all the columns up to the last column as the \n",
    "       features.\n",
    "   \n",
    "       2nd argument is a string of headers. Defaults to None if no headers are \n",
    "       passed through.\n",
    "   \n",
    "       Returns a data frame with the features and a data frame with the class \n",
    "       labels.\n",
    "    \"\"\" \n",
    "\n",
    "    try:        \n",
    "        headers = headers.split(',')\n",
    "        df = pd.read_csv(file, names=headers, delimiter=delimiter)\n",
    "    except:\n",
    "        try:\n",
    "            df = pd.read_csv(file, header=None, delimiter=delimiter)\n",
    "        except:\n",
    "            print('Needs a csv file.')\n",
    "    \n",
    "   \n",
    "    features_df = pd.DataFrame(df.iloc[:, 0:-1])\n",
    "    labels_df = pd.DataFrame(df.iloc[:,-1])\n",
    "    \n",
    "    return features_df, labels_df"
   ]
  },
  {
   "cell_type": "markdown",
   "metadata": {},
   "source": [
    "#### Entropy"
   ]
  },
  {
   "cell_type": "code",
   "execution_count": 3,
   "metadata": {},
   "outputs": [],
   "source": [
    "def get_entropy(tree_values):\n",
    "    \"\"\"Function to get the individual entropies for each branch.    \n",
    "        Takes the decision tree classifier values method.       \n",
    "        Returns a list of entropies and list of values for each branch.\n",
    "    \"\"\"\n",
    "    \n",
    "    # value of each class per branch\n",
    "    node_splits = tree_values\n",
    "    \n",
    "    entropies = []\n",
    "    values = []\n",
    "    \n",
    "    # separate nodes to list of individual arrays for each node in tree\n",
    "    for node in node_splits:\n",
    "        entropy = 0\n",
    "        values.append(node[0])\n",
    "\n",
    "        for counts in node[0]:\n",
    "            # calculate probability with unique counts of each node / \n",
    "            # total counts\n",
    "            probabilities = counts / node.sum()\n",
    "            if probabilities !=0:\n",
    "                # entropy equation\n",
    "                entropy += probabilities * -np.log2(probabilities)\n",
    "        # list of all entropies\n",
    "        entropies.append(entropy)\n",
    "    \n",
    "    return entropies, values"
   ]
  },
  {
   "cell_type": "markdown",
   "metadata": {},
   "source": [
    "#### Information Gain"
   ]
  },
  {
   "cell_type": "code",
   "execution_count": 5,
   "metadata": {},
   "outputs": [],
   "source": [
    "def calculate_info_gain(entropies, values, nodes):\n",
    "    \"\"\"Function to calculate the information gain per branch.\n",
    "       Takes the list of entropies, list of values, and nodes per class.\n",
    "       Returns the information gain.\n",
    "    \"\"\"\n",
    "    \n",
    "    # calculate weights = sum of values\n",
    "    n = values[nodes[0]].sum()\n",
    "    \n",
    "    # probability of left and right splits over weights\n",
    "    prob_left = values[nodes[1]].sum()/n\n",
    "    prob_right = values[nodes[2]].sum()/n\n",
    "    \n",
    "    # weighting the entropy of both left and right branches\n",
    "    overall_entropy = prob_left*entropies[nodes[1]] + \\\n",
    "    prob_right*entropies[nodes[2]]\n",
    "    \n",
    "    # current entropy - overall entropy \n",
    "    info_gain = entropies[nodes[0]] - overall_entropy\n",
    "    \n",
    "    return info_gain"
   ]
  },
  {
   "cell_type": "markdown",
   "metadata": {},
   "source": [
    "#### Construct The Tree"
   ]
  },
  {
   "cell_type": "code",
   "execution_count": 6,
   "metadata": {},
   "outputs": [],
   "source": [
    "def build_tree(min_node, min_impurity, data, labels):\n",
    "    \"\"\"Function to build the tree with the DecisionTreeClassifier.\n",
    "       Takes the minimum size of leaf to stop the tree growth,\n",
    "          minimum impurity (oposite of max impurity), data, and the labels.\n",
    "       Returns a fitted decision tree.\n",
    "    \"\"\"\n",
    "    \n",
    "    # build the tree\n",
    "    dt = DecisionTreeClassifier(criterion = 'entropy', min_samples_split = \n",
    "                                min_node, min_impurity_decrease = min_impurity)\n",
    "    \n",
    "    # fit the tree\n",
    "    dt.fit(data, labels)\n",
    "    \n",
    "    return dt"
   ]
  },
  {
   "cell_type": "markdown",
   "metadata": {},
   "source": [
    "#### Construct Nodes"
   ]
  },
  {
   "cell_type": "code",
   "execution_count": 7,
   "metadata": {},
   "outputs": [],
   "source": [
    "def construct_nodes(dt):\n",
    "    \"\"\"Function to determine if the node is a decision node or a leaf.\n",
    "       Takes the decision tree from the decision tree classifier.\n",
    "       Retuns the node depth and if it is a leaf.\n",
    "    \"\"\"\n",
    "    \n",
    "    # get information from the modules in the decision tree classifier\n",
    "    n_nodes = dt.tree_.node_count\n",
    "    children_left = dt.tree_.children_left\n",
    "    children_right = dt.tree_.children_right\n",
    "    feature = dt.tree_.feature\n",
    "    threshold = dt.tree_.threshold\n",
    "      \n",
    "    # The tree structure can be traversed to compute various properties such\n",
    "    # as the depth of each node and whether or not it is a leaf.\n",
    "    node_depth = np.zeros(shape=n_nodes, dtype=np.int64)\n",
    "    is_leaves = np.zeros(shape=n_nodes, dtype=bool)\n",
    "    stack = [(0, -1)]  # seed is the root node id and its parent depth\n",
    "\n",
    "    # decide if a leaf or a decision\n",
    "    while len(stack) > 0:\n",
    "        node_id, parent_depth = stack.pop()\n",
    "        node_depth[node_id] = parent_depth + 1\n",
    "\n",
    "        # If we have a decision node\n",
    "        if (children_left[node_id] != children_right[node_id]):\n",
    "            stack.append((children_left[node_id], parent_depth + 1))\n",
    "            stack.append((children_right[node_id], parent_depth + 1))\n",
    "        else:\n",
    "            is_leaves[node_id] = True\n",
    "    \n",
    "    \n",
    "    return node_depth, is_leaves"
   ]
  },
  {
   "cell_type": "markdown",
   "metadata": {},
   "source": [
    "#### Main"
   ]
  },
  {
   "cell_type": "code",
   "execution_count": 8,
   "metadata": {},
   "outputs": [],
   "source": [
    "def Decision_Tree(D, min_node, min_impurity, headers=None, delimiter=','):\n",
    "    \"\"\"Function to make a decision tree based on entropy and information gain, \n",
    "         until max depth is reached or purity.\n",
    "       D: CSV file\n",
    "       min_node: minimum size of leaf to stop\n",
    "       min_impurity: Threshold for early stopping in tree growth. A node will \n",
    "          split if it's impurity is above the threshold, otherwise it is a \n",
    "          leaf. This is oposite of max impurity.\n",
    "       headers = Defaults to none, option to put in headers for file.\n",
    "       delimiter = Delimiter for file reading, defaults to comma.\n",
    "       Returns a decision tree with decision, leaf, purity, gain, size, and \n",
    "          class.\n",
    "    \"\"\"\n",
    "    \n",
    "    \n",
    "    try:\n",
    "        X,y = read_file(D, headers, delimiter)\n",
    "               \n",
    "        # build tree\n",
    "        dt = build_tree(min_node, min_impurity, X, y)\n",
    "\n",
    "        # get entropies\n",
    "        entropies, values = get_entropy(dt.tree_.value)\n",
    "\n",
    "        # determine type\n",
    "        node_depth, is_leaves = construct_nodes(dt)\n",
    "\n",
    "        # get info from classifier module\n",
    "        n_nodes = dt.tree_.node_count\n",
    "        feature = dt.tree_.feature\n",
    "        threshold = dt.tree_.threshold\n",
    "\n",
    "        # create list of classes for each node\n",
    "        node_labels = []\n",
    "        for node in dt.tree_.value:\n",
    "            node_labels.append(dt.classes_[np.argmax(node)])\n",
    "\n",
    "\n",
    "        # ---Print Outcome---\n",
    "\n",
    "        for i in range(n_nodes):\n",
    "            # if it is a leaf\n",
    "            if is_leaves[i]:            \n",
    "                depth = node_depth[i]\n",
    "                class_label = node_labels[i]\n",
    "                purity = np.round((1-dt.tree_.impurity[i]),2)\n",
    "                size = dt.tree_.n_node_samples[i]\n",
    "\n",
    "                print('{}Leaf: Label = {} Purity = {} Size = {}'.format\n",
    "                      (depth*'\\t', class_label, purity, size))\n",
    "\n",
    "            # if it is a decision\n",
    "            else: \n",
    "                # parent and two children\n",
    "                nodes = [i, i+1, i+2]\n",
    "\n",
    "                # calcualte information gain\n",
    "                info_gain = np.round(calculate_info_gain(entropies, values, \n",
    "                                                         nodes),2)\n",
    "                depth = node_depth[i]\n",
    "                decision_threshold = np.round(threshold[i],2)\n",
    "\n",
    "                print('{}Decision: {} <= {} Gain = {}'.format\n",
    "                      (depth*'\\t', X.columns[feature[i]], decision_threshold, \n",
    "                       info_gain))\n",
    "                \n",
    "    except:\n",
    "        print('Unexpected error:', sys.exc_info()[0])\n",
    "        raise"
   ]
  },
  {
   "cell_type": "markdown",
   "metadata": {},
   "source": [
    "#### Run Program"
   ]
  },
  {
   "cell_type": "code",
   "execution_count": 9,
   "metadata": {},
   "outputs": [
    {
     "name": "stdout",
     "output_type": "stream",
     "text": [
      "Decision:  petal_length <= 2.45 Gain = 0.92\n",
      "\tLeaf: Label = Iris-setosa Purity = 1.0 Size = 50\n",
      "\tDecision:  petal_width <= 1.75 Gain = 0.69\n",
      "\t\tDecision:  petal_length <= 4.95 Gain = 0.21\n",
      "\t\t\tLeaf: Label = Iris-versicolor Purity = 0.85 Size = 48\n",
      "\t\t\tLeaf: Label = Iris-virginica Purity = 0.08 Size = 6\n",
      "\t\tLeaf: Label = Iris-virginica Purity = 0.85 Size = 46\n"
     ]
    }
   ],
   "source": [
    "# minimum leaf size to stop = 5\n",
    "# purity to stop = .95\n",
    "\n",
    "Decision_Tree('iris.txt', 5, .05, \n",
    "              'sepal_length, sepal_width, petal_length, petal_width, class')"
   ]
  },
  {
   "cell_type": "markdown",
   "metadata": {},
   "source": [
    "Resources: \n",
    "\n",
    "https://scikit-learn.org/stable/auto_examples/tree/plot_unveil_tree_structure.html#sphx-glr-auto-examples-tree-plot-unveil-tree-structure-py\n",
    "\n",
    "https://www.youtube.com/watch?v=Twow3toMQiw&list=PLPOTBrypY74xS3WD0G_uzqPjCQfU6IRK-&index=3&t=0s"
   ]
  }
 ],
 "metadata": {
  "kernelspec": {
   "display_name": "Python 3",
   "language": "python",
   "name": "python3"
  },
  "language_info": {
   "codemirror_mode": {
    "name": "ipython",
    "version": 3
   },
   "file_extension": ".py",
   "mimetype": "text/x-python",
   "name": "python",
   "nbconvert_exporter": "python",
   "pygments_lexer": "ipython3",
   "version": "3.7.4"
  }
 },
 "nbformat": 4,
 "nbformat_minor": 2
}
